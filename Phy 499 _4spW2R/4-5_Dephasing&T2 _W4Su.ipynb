{
 "cells": [
  {
   "cell_type": "markdown",
   "metadata": {},
   "source": [
    "# Dephasing and $T_2$ _W4Su"
   ]
  },
  {
   "cell_type": "code",
   "execution_count": 2,
   "metadata": {},
   "outputs": [],
   "source": [
    "from qiskit import IBMQ\n",
    "IBMQ.save_account('9a1df84c5c6f3fa631f331de96f3199b9336045a5b39320e91b7b9b03a93f8840ea842d298e3115129269459bb504fbd827769644b247f2709c77e20f3f80809')\n",
    "overwrite=True"
   ]
  },
  {
   "cell_type": "code",
   "execution_count": null,
   "metadata": {},
   "outputs": [],
   "source": [
    "# t2_ramsey.py\n",
    "import numpy as np\n",
    "import matplotlib.pyplot as plt\n",
    "\n",
    "from qiskit import QuantumCircuit, QuantumRegister, ClassicalRegister, execute#, register\n",
    "\n",
    "import Qconfig\n",
    "#register(Qconfig.APItoken, Qconfig.config['url'])\n",
    "\n",
    "# Define the Quantum and Classical Registers\n",
    "q = QuantumRegister(1)\n",
    "c = ClassicalRegister(1)\n",
    "\n",
    "# Build the circuits\n",
    "pre = QuantumCircuit(q, c)\n",
    "pre.h(q)\n",
    "pre.barrier()\n",
    "meas_x = QuantumCircuit(q, c)\n",
    "meas_x.barrier()\n",
    "meas_x.h(q)\n",
    "meas_x.measure(q, c)\n",
    "circuits = []\n",
    "exp_vector = range(1,51)\n",
    "phase = 0.0\n",
    "for exp_index in exp_vector:\n",
    "    middle = QuantumCircuit(q, c)\n",
    "    phase = phase + 6*np.pi/len(exp_vector)\n",
    "    middle.u1(phase,q)\n",
    "    for i in range(5*exp_index):\n",
    "        middle.iden(q)\n",
    "    circuits.append(pre + middle + meas_x)"
   ]
  },
  {
   "cell_type": "code",
   "execution_count": 5,
   "metadata": {},
   "outputs": [
    {
     "ename": "NameError",
     "evalue": "name 'circuits' is not defined",
     "output_type": "error",
     "traceback": [
      "\u001b[1;31m---------------------------------------------------------------------------\u001b[0m",
      "\u001b[1;31mNameError\u001b[0m                                 Traceback (most recent call last)",
      "\u001b[1;32m<ipython-input-5-5948abc28887>\u001b[0m in \u001b[0;36m<module>\u001b[1;34m\u001b[0m\n\u001b[0;32m      1\u001b[0m \u001b[1;31m# Execute the circuits\u001b[0m\u001b[1;33m\u001b[0m\u001b[1;33m\u001b[0m\u001b[1;33m\u001b[0m\u001b[0m\n\u001b[0;32m      2\u001b[0m \u001b[0mshots\u001b[0m \u001b[1;33m=\u001b[0m \u001b[1;36m1024\u001b[0m\u001b[1;33m\u001b[0m\u001b[1;33m\u001b[0m\u001b[0m\n\u001b[1;32m----> 3\u001b[1;33m \u001b[0mjob\u001b[0m \u001b[1;33m=\u001b[0m \u001b[0mexecute\u001b[0m\u001b[1;33m(\u001b[0m\u001b[0mcircuits\u001b[0m\u001b[1;33m,\u001b[0m \u001b[1;34m'ibmqx4'\u001b[0m\u001b[1;33m,\u001b[0m \u001b[0mshots\u001b[0m\u001b[1;33m=\u001b[0m\u001b[0mshots\u001b[0m\u001b[1;33m,\u001b[0m \u001b[0mmax_credits\u001b[0m\u001b[1;33m=\u001b[0m\u001b[1;36m10\u001b[0m\u001b[1;33m)\u001b[0m\u001b[1;33m\u001b[0m\u001b[1;33m\u001b[0m\u001b[0m\n\u001b[0m\u001b[0;32m      4\u001b[0m \u001b[0mresult\u001b[0m \u001b[1;33m=\u001b[0m \u001b[0mjob\u001b[0m\u001b[1;33m.\u001b[0m\u001b[0mresult\u001b[0m\u001b[1;33m(\u001b[0m\u001b[1;33m)\u001b[0m\u001b[1;33m\u001b[0m\u001b[1;33m\u001b[0m\u001b[0m\n\u001b[0;32m      5\u001b[0m \u001b[1;33m\u001b[0m\u001b[0m\n",
      "\u001b[1;31mNameError\u001b[0m: name 'circuits' is not defined"
     ]
    }
   ],
   "source": [
    "# Execute the circuits\n",
    "shots = 1024\n",
    "job = execute(circuits, 'ibmqx4', shots=shots, max_credits=10)\n",
    "result = job.result()\n",
    "\n",
    "# Plot the result\n",
    "exp_data = []\n",
    "exp_error = []\n",
    "for exp_index in exp_vector:\n",
    "    data = result.get_counts(circuits[exp_index-1])\n",
    "    try:\n",
    "        p0 = data['0']/shots\n",
    "    except KeyError:\n",
    "        p0 = 0\n",
    "    exp_data.append(p0)\n",
    "    exp_error.append(np.sqrt(p0*(1-p0)/shots))\n",
    "\n",
    "plt.errorbar(exp_vector, exp_data, exp_error)\n",
    "plt.xlabel('time [5*gate time]')\n",
    "plt.ylabel('Pr(+)')\n",
    "plt.grid(True)\n",
    "plt.show()"
   ]
  },
  {
   "cell_type": "code",
   "execution_count": null,
   "metadata": {
    "collapsed": true
   },
   "outputs": [],
   "source": []
  }
 ],
 "metadata": {
  "kernelspec": {
   "display_name": "Python 3",
   "language": "python",
   "name": "python3"
  },
  "language_info": {
   "codemirror_mode": {
    "name": "ipython",
    "version": 3
   },
   "file_extension": ".py",
   "mimetype": "text/x-python",
   "name": "python",
   "nbconvert_exporter": "python",
   "pygments_lexer": "ipython3",
   "version": "3.7.2"
  }
 },
 "nbformat": 4,
 "nbformat_minor": 2
}
